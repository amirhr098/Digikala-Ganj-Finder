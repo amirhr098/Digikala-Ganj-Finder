{
 "cells": [
  {
   "cell_type": "code",
   "execution_count": 45,
   "id": "3a1d6b15-12d6-462f-83af-e96efb5a2291",
   "metadata": {},
   "outputs": [],
   "source": [
    "import os\n",
    "import time\n",
    "from glob import glob\n",
    "from tqdm import tqdm\n",
    "\n",
    "import numpy as np\n",
    "import matplotlib.pyplot as plt\n",
    "import cv2\n",
    "import shutil\n",
    "import subprocess\n",
    "\n",
    "\n",
    "# from mpire import WorkerPool\n",
    "import tensorflow as tf"
   ]
  },
  {
   "cell_type": "code",
   "execution_count": null,
   "id": "9f1fc253-97d2-403d-93bb-00bc04ccd5f2",
   "metadata": {},
   "outputs": [],
   "source": []
  },
  {
   "cell_type": "code",
   "execution_count": 46,
   "id": "d5308e11-479d-4fd4-acb0-986c58b26367",
   "metadata": {},
   "outputs": [
    {
     "name": "stdout",
     "output_type": "stream",
     "text": [
      "WARNING:tensorflow:No training configuration found in save file, so the model was *not* compiled. Compile it manually.\n",
      "Model: \"model_1\"\n",
      "_________________________________________________________________\n",
      " Layer (type)                Output Shape              Param #   \n",
      "=================================================================\n",
      " input_4 (InputLayer)        [(None, 224, 224, 3)]     0         \n",
      "                                                                 \n",
      " mobilenet_1.00_224 (Functi  (None, 7, 7, 1024)        3228864   \n",
      " onal)                                                           \n",
      "                                                                 \n",
      " global_average_pooling2d (  (None, 1024)              0         \n",
      " GlobalAveragePooling2D)                                         \n",
      "                                                                 \n",
      " lambda (Lambda)             (None, 1024)              0         \n",
      "                                                                 \n",
      "=================================================================\n",
      "Total params: 3228864 (12.32 MB)\n",
      "Trainable params: 3206976 (12.23 MB)\n",
      "Non-trainable params: 21888 (85.50 KB)\n",
      "_________________________________________________________________\n"
     ]
    }
   ],
   "source": [
    "similarity_model = tf.keras.models.load_model(\"model\")\n",
    "similarity_model.summary()"
   ]
  },
  {
   "cell_type": "code",
   "execution_count": 47,
   "id": "95348828-70e0-4fa1-86d2-477cfa27f64e",
   "metadata": {},
   "outputs": [],
   "source": [
    "def watermark_check(sample, base, filename):\n",
    "    image_diff = np.abs(sample[...,0] - base[...,0]) / 255\n",
    "    \n",
    "    X = np.abs(image_diff).mean(axis=0)\n",
    "    Y = np.abs(image_diff).mean(axis=1)\n",
    "    \n",
    "    # plt.figure()\n",
    "    # plt.imshow(image_diff/ 255.0)\n",
    "    # plt.show()\n",
    "    #plt.figure()\n",
    "    #plt.plot(X)\n",
    "    #plt.plot(Y)\n",
    "    \n",
    "    x1, x2 = np.where(X > 0.025)[0][[0,-1]]\n",
    "    y1, y2 = np.where(Y > 0.025)[0][[0,-1]]\n",
    "    watermark = sample[y1:y2, x1:x2]\n",
    "\n",
    "    \n",
    "    shutil.copy(filename, f\"image_match_ALL/{os.path.basename(filename)}\")\n",
    "    if abs((watermark.shape[1] / watermark.shape[0]) - 2) > 0.05:\n",
    "        #target_image = tf.keras.utils.load_img(filename, target_size=(800,800))\n",
    "        #target_image = tf.keras.utils.img_to_array(target_image)\n",
    "        #plt.figure()\n",
    "        #plt.imshow(target_image / 255.0)\n",
    "        #plt.show()\n",
    "        shutil.copy(filename, f\"image_match/{os.path.basename(filename)}\")\n",
    "        #cv2.imwrite(f\"image_match/{os.path.basename(filename)}\", watermark.astype(np.uint8))"
   ]
  },
  {
   "cell_type": "code",
   "execution_count": 48,
   "id": "0bab2366-21fb-4850-aee7-c047e84c7cbf",
   "metadata": {},
   "outputs": [],
   "source": [
    "@tf.function\n",
    "def inference(x):\n",
    "    return similarity_model(x)"
   ]
  },
  {
   "cell_type": "code",
   "execution_count": 49,
   "id": "8740301f-615c-4a58-a648-bf001cef9f67",
   "metadata": {},
   "outputs": [],
   "source": [
    "base = tf.keras.utils.load_img(\"base.webp\", target_size=(400,400))\n",
    "base = tf.keras.utils.img_to_array(base)\n",
    "\n",
    "base_ = cv2.resize(base.copy(), (224,224))\n",
    "feature_base = inference(base_[None] / 255)[0]\n",
    "\n",
    "\n",
    "def detect_ganj(filename):\n",
    "    try:\n",
    "        sample = tf.keras.utils.load_img(filename, target_size=(400,400))\n",
    "        sample = tf.keras.utils.img_to_array(sample)\n",
    "    \n",
    "        sample_ = cv2.resize(sample.copy(), (224,224))\n",
    "    \n",
    "        feature_sample = inference(sample_[None] / 255)[0]\n",
    "        similarity = np.sum(feature_sample * feature_base)\n",
    "        if similarity > 0.6:\n",
    "            #shutil.copy(filename, f\"image_match/{os.path.basename(filename)}\")\n",
    "            watermark_check(sample, base, filename)\n",
    "    except Exception as e:\n",
    "        # print(\"Error in detect_ganj:\",e)\n",
    "        # subprocess.Popen(f'explorer /select,\"{filename}\"')\n",
    "        print(\"ProductID=\", os.path.basename(filename).split(\"_\")[0])\n",
    "        pass"
   ]
  },
  {
   "cell_type": "code",
   "execution_count": null,
   "id": "e617fa38-906b-495d-ac2b-d979a3231c31",
   "metadata": {},
   "outputs": [],
   "source": []
  },
  {
   "cell_type": "code",
   "execution_count": 50,
   "id": "44b7a7df-6408-4f32-9d3c-e5d9e71121ec",
   "metadata": {},
   "outputs": [],
   "source": [
    "base_filenames = []"
   ]
  },
  {
   "cell_type": "code",
   "execution_count": 51,
   "id": "0c0444a3-3c26-4c43-9dc4-04706ce8fd0a",
   "metadata": {},
   "outputs": [
    {
     "name": "stdout",
     "output_type": "stream",
     "text": [
      "ProductID= 1577639\n",
      "ProductID= 1577639\n",
      "ProductID= 1675102\n",
      "ProductID= 1435580\n",
      "ProductID= 1675102\n",
      "ProductID= 1675102\n",
      "ProductID= 1435580\n",
      "ProductID= 1675102\n",
      "ProductID= 1693858\n",
      "ProductID= 9125912\n",
      "ProductID= 9256850\n",
      "ProductID= 6939999\n",
      "ProductID= 7423705\n",
      "ProductID= 5519653\n"
     ]
    },
    {
     "ename": "KeyboardInterrupt",
     "evalue": "",
     "output_type": "error",
     "traceback": [
      "\u001b[1;31m---------------------------------------------------------------------------\u001b[0m",
      "\u001b[1;31mKeyboardInterrupt\u001b[0m                         Traceback (most recent call last)",
      "\u001b[1;32mh:\\Projects\\Digikala\\GanjFinder\\Image_Matcher.ipynb Cell 9\u001b[0m line \u001b[0;36m4\n\u001b[0;32m      <a href='vscode-notebook-cell:/h%3A/Projects/Digikala/GanjFinder/Image_Matcher.ipynb#X11sZmlsZQ%3D%3D?line=1'>2</a>\u001b[0m time\u001b[39m.\u001b[39msleep(\u001b[39m2\u001b[39m)\n\u001b[0;32m      <a href='vscode-notebook-cell:/h%3A/Projects/Digikala/GanjFinder/Image_Matcher.ipynb#X11sZmlsZQ%3D%3D?line=2'>3</a>\u001b[0m \u001b[39mwhile\u001b[39;00m \u001b[39mTrue\u001b[39;00m:\n\u001b[1;32m----> <a href='vscode-notebook-cell:/h%3A/Projects/Digikala/GanjFinder/Image_Matcher.ipynb#X11sZmlsZQ%3D%3D?line=3'>4</a>\u001b[0m     end \u001b[39m=\u001b[39m time\u001b[39m.\u001b[39;49mtime()\n\u001b[0;32m      <a href='vscode-notebook-cell:/h%3A/Projects/Digikala/GanjFinder/Image_Matcher.ipynb#X11sZmlsZQ%3D%3D?line=4'>5</a>\u001b[0m     time_diff \u001b[39m=\u001b[39m end \u001b[39m-\u001b[39m start\n\u001b[0;32m      <a href='vscode-notebook-cell:/h%3A/Projects/Digikala/GanjFinder/Image_Matcher.ipynb#X11sZmlsZQ%3D%3D?line=6'>7</a>\u001b[0m     \u001b[39mif\u001b[39;00m time_diff \u001b[39m>\u001b[39m \u001b[39m1\u001b[39m:\n",
      "\u001b[1;31mKeyboardInterrupt\u001b[0m: "
     ]
    }
   ],
   "source": [
    "start = time.time()\n",
    "time.sleep(2)\n",
    "while True:\n",
    "    end = time.time()\n",
    "    time_diff = end - start\n",
    "    \n",
    "    if time_diff > 1:\n",
    "        start = time.time()\n",
    "        filenames = glob(\"images/*.jpg\")\n",
    "        diff_filenames = list(set(filenames) - set(base_filenames))\n",
    "        if len(diff_filenames):\n",
    "            #with WorkerPool(n_jobs=4) as pool:\n",
    "            #    results = pool.map(detect_ganj, diff_filenames, progress_bar=True)\n",
    "\n",
    "            \n",
    "            for filename in diff_filenames:\n",
    "                detect_ganj(filename)\n",
    "        \n",
    "        base_filenames = filenames"
   ]
  },
  {
   "cell_type": "code",
   "execution_count": null,
   "metadata": {},
   "outputs": [],
   "source": []
  },
  {
   "cell_type": "code",
   "execution_count": null,
   "metadata": {},
   "outputs": [],
   "source": []
  }
 ],
 "metadata": {
  "kernelspec": {
   "display_name": "Python 3 (ipykernel)",
   "language": "python",
   "name": "python3"
  },
  "language_info": {
   "codemirror_mode": {
    "name": "ipython",
    "version": 3
   },
   "file_extension": ".py",
   "mimetype": "text/x-python",
   "name": "python",
   "nbconvert_exporter": "python",
   "pygments_lexer": "ipython3",
   "version": "3.10.9"
  }
 },
 "nbformat": 4,
 "nbformat_minor": 5
}
